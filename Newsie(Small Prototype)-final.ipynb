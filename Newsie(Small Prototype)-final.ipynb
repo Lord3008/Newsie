{
 "cells": [
  {
   "cell_type": "code",
   "execution_count": 2,
   "id": "a0610745",
   "metadata": {},
   "outputs": [
    {
     "name": "stdout",
     "output_type": "stream",
     "text": [
      "Requirement already satisfied: spacy in c:\\users\\lord sen\\anaconda3\\lib\\site-packages (3.7.4)\n",
      "Requirement already satisfied: spacy-legacy<3.1.0,>=3.0.11 in c:\\users\\lord sen\\anaconda3\\lib\\site-packages (from spacy) (3.0.12)\n",
      "Requirement already satisfied: spacy-loggers<2.0.0,>=1.0.0 in c:\\users\\lord sen\\anaconda3\\lib\\site-packages (from spacy) (1.0.5)\n",
      "Requirement already satisfied: murmurhash<1.1.0,>=0.28.0 in c:\\users\\lord sen\\anaconda3\\lib\\site-packages (from spacy) (1.0.10)\n",
      "Requirement already satisfied: cymem<2.1.0,>=2.0.2 in c:\\users\\lord sen\\anaconda3\\lib\\site-packages (from spacy) (2.0.8)\n",
      "Requirement already satisfied: preshed<3.1.0,>=3.0.2 in c:\\users\\lord sen\\anaconda3\\lib\\site-packages (from spacy) (3.0.9)\n",
      "Requirement already satisfied: thinc<8.3.0,>=8.2.2 in c:\\users\\lord sen\\anaconda3\\lib\\site-packages (from spacy) (8.2.3)\n",
      "Requirement already satisfied: wasabi<1.2.0,>=0.9.1 in c:\\users\\lord sen\\anaconda3\\lib\\site-packages (from spacy) (1.1.2)\n",
      "Requirement already satisfied: srsly<3.0.0,>=2.4.3 in c:\\users\\lord sen\\anaconda3\\lib\\site-packages (from spacy) (2.4.8)\n",
      "Requirement already satisfied: catalogue<2.1.0,>=2.0.6 in c:\\users\\lord sen\\anaconda3\\lib\\site-packages (from spacy) (2.0.10)\n",
      "Requirement already satisfied: weasel<0.4.0,>=0.1.0 in c:\\users\\lord sen\\anaconda3\\lib\\site-packages (from spacy) (0.3.4)\n",
      "Requirement already satisfied: typer<0.10.0,>=0.3.0 in c:\\users\\lord sen\\anaconda3\\lib\\site-packages (from spacy) (0.9.0)\n",
      "Requirement already satisfied: smart-open<7.0.0,>=5.2.1 in c:\\users\\lord sen\\anaconda3\\lib\\site-packages (from spacy) (5.2.1)\n",
      "Requirement already satisfied: tqdm<5.0.0,>=4.38.0 in c:\\users\\lord sen\\anaconda3\\lib\\site-packages (from spacy) (4.65.0)\n",
      "Requirement already satisfied: requests<3.0.0,>=2.13.0 in c:\\users\\lord sen\\anaconda3\\lib\\site-packages (from spacy) (2.31.0)\n",
      "Requirement already satisfied: pydantic!=1.8,!=1.8.1,<3.0.0,>=1.7.4 in c:\\users\\lord sen\\anaconda3\\lib\\site-packages (from spacy) (1.10.8)\n",
      "Requirement already satisfied: jinja2 in c:\\users\\lord sen\\anaconda3\\lib\\site-packages (from spacy) (3.1.2)\n",
      "Requirement already satisfied: setuptools in c:\\users\\lord sen\\anaconda3\\lib\\site-packages (from spacy) (68.0.0)\n",
      "Requirement already satisfied: packaging>=20.0 in c:\\users\\lord sen\\anaconda3\\lib\\site-packages (from spacy) (23.1)\n",
      "Requirement already satisfied: langcodes<4.0.0,>=3.2.0 in c:\\users\\lord sen\\anaconda3\\lib\\site-packages (from spacy) (3.3.0)\n",
      "Requirement already satisfied: numpy>=1.19.0 in c:\\users\\lord sen\\anaconda3\\lib\\site-packages (from spacy) (1.24.3)\n",
      "Requirement already satisfied: typing-extensions>=4.2.0 in c:\\users\\lord sen\\anaconda3\\lib\\site-packages (from pydantic!=1.8,!=1.8.1,<3.0.0,>=1.7.4->spacy) (4.7.1)\n",
      "Requirement already satisfied: charset-normalizer<4,>=2 in c:\\users\\lord sen\\anaconda3\\lib\\site-packages (from requests<3.0.0,>=2.13.0->spacy) (2.0.4)\n",
      "Requirement already satisfied: idna<4,>=2.5 in c:\\users\\lord sen\\anaconda3\\lib\\site-packages (from requests<3.0.0,>=2.13.0->spacy) (3.4)\n",
      "Requirement already satisfied: urllib3<3,>=1.21.1 in c:\\users\\lord sen\\anaconda3\\lib\\site-packages (from requests<3.0.0,>=2.13.0->spacy) (1.26.16)\n",
      "Requirement already satisfied: certifi>=2017.4.17 in c:\\users\\lord sen\\anaconda3\\lib\\site-packages (from requests<3.0.0,>=2.13.0->spacy) (2023.7.22)\n",
      "Requirement already satisfied: blis<0.8.0,>=0.7.8 in c:\\users\\lord sen\\anaconda3\\lib\\site-packages (from thinc<8.3.0,>=8.2.2->spacy) (0.7.11)\n",
      "Requirement already satisfied: confection<1.0.0,>=0.0.1 in c:\\users\\lord sen\\anaconda3\\lib\\site-packages (from thinc<8.3.0,>=8.2.2->spacy) (0.1.4)\n",
      "Requirement already satisfied: colorama in c:\\users\\lord sen\\anaconda3\\lib\\site-packages (from tqdm<5.0.0,>=4.38.0->spacy) (0.4.6)\n",
      "Requirement already satisfied: click<9.0.0,>=7.1.1 in c:\\users\\lord sen\\anaconda3\\lib\\site-packages (from typer<0.10.0,>=0.3.0->spacy) (8.0.4)\n",
      "Requirement already satisfied: cloudpathlib<0.17.0,>=0.7.0 in c:\\users\\lord sen\\anaconda3\\lib\\site-packages (from weasel<0.4.0,>=0.1.0->spacy) (0.16.0)\n",
      "Requirement already satisfied: MarkupSafe>=2.0 in c:\\users\\lord sen\\anaconda3\\lib\\site-packages (from jinja2->spacy) (2.1.1)\n",
      "Collecting en-core-web-sm==3.7.1\n",
      "  Downloading https://github.com/explosion/spacy-models/releases/download/en_core_web_sm-3.7.1/en_core_web_sm-3.7.1-py3-none-any.whl (12.8 MB)\n",
      "     ---------------------------------------- 0.0/12.8 MB ? eta -:--:--\n",
      "     --------------------------------------- 0.0/12.8 MB 487.6 kB/s eta 0:00:27\n",
      "     --------------------------------------- 0.1/12.8 MB 435.7 kB/s eta 0:00:30\n",
      "     --------------------------------------- 0.1/12.8 MB 363.1 kB/s eta 0:00:36\n",
      "     --------------------------------------- 0.1/12.8 MB 435.7 kB/s eta 0:00:30\n",
      "     --------------------------------------- 0.2/12.8 MB 573.4 kB/s eta 0:00:23\n",
      "      -------------------------------------- 0.3/12.8 MB 907.8 kB/s eta 0:00:14\n",
      "     - -------------------------------------- 0.4/12.8 MB 1.1 MB/s eta 0:00:12\n",
      "     - -------------------------------------- 0.6/12.8 MB 1.5 MB/s eta 0:00:09\n",
      "     -- ------------------------------------- 0.7/12.8 MB 1.6 MB/s eta 0:00:08\n",
      "     --- ------------------------------------ 1.1/12.8 MB 2.3 MB/s eta 0:00:06\n",
      "     --- ------------------------------------ 1.2/12.8 MB 2.5 MB/s eta 0:00:05\n",
      "     --- ------------------------------------ 1.2/12.8 MB 2.5 MB/s eta 0:00:05\n",
      "     ----- ---------------------------------- 1.7/12.8 MB 2.6 MB/s eta 0:00:05\n",
      "     ----- ---------------------------------- 1.7/12.8 MB 2.7 MB/s eta 0:00:05\n",
      "     ----- ---------------------------------- 1.7/12.8 MB 2.5 MB/s eta 0:00:05\n",
      "     ----- ---------------------------------- 1.9/12.8 MB 2.4 MB/s eta 0:00:05\n",
      "     ------ --------------------------------- 1.9/12.8 MB 2.4 MB/s eta 0:00:05\n",
      "     ------ --------------------------------- 2.1/12.8 MB 2.4 MB/s eta 0:00:05\n",
      "     ------ --------------------------------- 2.1/12.8 MB 2.3 MB/s eta 0:00:05\n",
      "     ------ --------------------------------- 2.2/12.8 MB 2.2 MB/s eta 0:00:05\n",
      "     ------- -------------------------------- 2.3/12.8 MB 2.2 MB/s eta 0:00:05\n",
      "     ------- -------------------------------- 2.4/12.8 MB 2.2 MB/s eta 0:00:05\n",
      "     ------- -------------------------------- 2.5/12.8 MB 2.2 MB/s eta 0:00:05\n",
      "     ------- -------------------------------- 2.5/12.8 MB 2.2 MB/s eta 0:00:05\n",
      "     -------- ------------------------------- 2.7/12.8 MB 2.2 MB/s eta 0:00:05\n",
      "     -------- ------------------------------- 2.7/12.8 MB 2.2 MB/s eta 0:00:05\n",
      "     -------- ------------------------------- 2.8/12.8 MB 2.2 MB/s eta 0:00:05\n",
      "     --------- ------------------------------ 2.9/12.8 MB 2.2 MB/s eta 0:00:05\n",
      "     --------- ------------------------------ 3.0/12.8 MB 2.1 MB/s eta 0:00:05\n",
      "     --------- ------------------------------ 3.1/12.8 MB 2.1 MB/s eta 0:00:05\n",
      "     ---------- ----------------------------- 3.2/12.8 MB 2.2 MB/s eta 0:00:05\n",
      "     ---------- ----------------------------- 3.3/12.8 MB 2.1 MB/s eta 0:00:05\n",
      "     ---------- ----------------------------- 3.4/12.8 MB 2.1 MB/s eta 0:00:05\n",
      "     ---------- ----------------------------- 3.5/12.8 MB 2.1 MB/s eta 0:00:05\n",
      "     ----------- ---------------------------- 3.6/12.8 MB 2.1 MB/s eta 0:00:05\n",
      "     ----------- ---------------------------- 3.7/12.8 MB 2.1 MB/s eta 0:00:05\n",
      "     ----------- ---------------------------- 3.8/12.8 MB 2.1 MB/s eta 0:00:05\n",
      "     ------------ --------------------------- 3.9/12.8 MB 2.1 MB/s eta 0:00:05\n",
      "     ------------ --------------------------- 3.9/12.8 MB 2.1 MB/s eta 0:00:05\n",
      "     ------------ --------------------------- 4.0/12.8 MB 2.1 MB/s eta 0:00:05\n",
      "     ------------ --------------------------- 4.1/12.8 MB 2.1 MB/s eta 0:00:05\n",
      "     ------------- -------------------------- 4.2/12.8 MB 2.0 MB/s eta 0:00:05\n",
      "     ------------- -------------------------- 4.3/12.8 MB 2.0 MB/s eta 0:00:05\n",
      "     ------------- -------------------------- 4.4/12.8 MB 2.0 MB/s eta 0:00:05\n",
      "     -------------- ------------------------- 4.5/12.8 MB 2.0 MB/s eta 0:00:05\n",
      "     -------------- ------------------------- 4.6/12.8 MB 2.0 MB/s eta 0:00:05\n",
      "     -------------- ------------------------- 4.7/12.8 MB 2.0 MB/s eta 0:00:04\n",
      "     -------------- ------------------------- 4.8/12.8 MB 2.0 MB/s eta 0:00:04\n",
      "     --------------- ------------------------ 4.9/12.8 MB 2.0 MB/s eta 0:00:04\n",
      "     --------------- ------------------------ 5.0/12.8 MB 2.0 MB/s eta 0:00:04\n",
      "     --------------- ------------------------ 5.0/12.8 MB 2.0 MB/s eta 0:00:04\n",
      "     ---------------- ----------------------- 5.1/12.8 MB 2.0 MB/s eta 0:00:04\n",
      "     ---------------- ----------------------- 5.2/12.8 MB 2.0 MB/s eta 0:00:04\n",
      "     ---------------- ----------------------- 5.3/12.8 MB 2.0 MB/s eta 0:00:04\n",
      "     ---------------- ----------------------- 5.4/12.8 MB 2.0 MB/s eta 0:00:04\n",
      "     ----------------- ---------------------- 5.5/12.8 MB 2.0 MB/s eta 0:00:04\n",
      "     ----------------- ---------------------- 5.6/12.8 MB 2.0 MB/s eta 0:00:04\n",
      "     ----------------- ---------------------- 5.7/12.8 MB 2.0 MB/s eta 0:00:04\n",
      "     ------------------ --------------------- 5.8/12.8 MB 2.0 MB/s eta 0:00:04\n",
      "     ------------------ --------------------- 5.9/12.8 MB 2.0 MB/s eta 0:00:04\n",
      "     ------------------ --------------------- 6.0/12.8 MB 2.0 MB/s eta 0:00:04\n",
      "     ------------------ --------------------- 6.1/12.8 MB 2.0 MB/s eta 0:00:04\n",
      "     ------------------- -------------------- 6.2/12.8 MB 2.0 MB/s eta 0:00:04\n",
      "     ------------------- -------------------- 6.2/12.8 MB 2.0 MB/s eta 0:00:04\n",
      "     ------------------- -------------------- 6.3/12.8 MB 2.0 MB/s eta 0:00:04\n",
      "     -------------------- ------------------- 6.4/12.8 MB 2.0 MB/s eta 0:00:04\n",
      "     -------------------- ------------------- 6.5/12.8 MB 2.0 MB/s eta 0:00:04\n",
      "     -------------------- ------------------- 6.6/12.8 MB 2.0 MB/s eta 0:00:04\n",
      "     -------------------- ------------------- 6.7/12.8 MB 2.0 MB/s eta 0:00:04\n",
      "     --------------------- ------------------ 6.8/12.8 MB 2.0 MB/s eta 0:00:03\n",
      "     --------------------- ------------------ 6.9/12.8 MB 2.0 MB/s eta 0:00:03\n",
      "     --------------------- ------------------ 7.0/12.8 MB 2.0 MB/s eta 0:00:03\n",
      "     ---------------------- ----------------- 7.1/12.8 MB 2.0 MB/s eta 0:00:03\n",
      "     ---------------------- ----------------- 7.2/12.8 MB 2.0 MB/s eta 0:00:03\n",
      "     ---------------------- ----------------- 7.2/12.8 MB 2.0 MB/s eta 0:00:03\n",
      "     ---------------------- ----------------- 7.3/12.8 MB 2.0 MB/s eta 0:00:03\n",
      "     ----------------------- ---------------- 7.4/12.8 MB 2.0 MB/s eta 0:00:03\n",
      "     ----------------------- ---------------- 7.5/12.8 MB 2.0 MB/s eta 0:00:03\n",
      "     ----------------------- ---------------- 7.6/12.8 MB 2.0 MB/s eta 0:00:03\n",
      "     ------------------------ --------------- 7.7/12.8 MB 2.0 MB/s eta 0:00:03\n",
      "     ------------------------ --------------- 7.8/12.8 MB 2.0 MB/s eta 0:00:03\n",
      "     ------------------------ --------------- 7.9/12.8 MB 2.0 MB/s eta 0:00:03\n",
      "     ------------------------ --------------- 8.0/12.8 MB 2.0 MB/s eta 0:00:03\n",
      "     ------------------------- -------------- 8.1/12.8 MB 2.0 MB/s eta 0:00:03\n",
      "     ------------------------- -------------- 8.2/12.8 MB 2.0 MB/s eta 0:00:03\n",
      "     ------------------------- -------------- 8.3/12.8 MB 2.0 MB/s eta 0:00:03\n",
      "     -------------------------- ------------- 8.4/12.8 MB 2.0 MB/s eta 0:00:03\n",
      "     -------------------------- ------------- 8.4/12.8 MB 2.0 MB/s eta 0:00:03\n",
      "     -------------------------- ------------- 8.5/12.8 MB 2.0 MB/s eta 0:00:03\n",
      "     -------------------------- ------------- 8.6/12.8 MB 2.0 MB/s eta 0:00:03\n",
      "     --------------------------- ------------ 8.7/12.8 MB 2.0 MB/s eta 0:00:03\n",
      "     --------------------------- ------------ 8.8/12.8 MB 2.0 MB/s eta 0:00:02\n",
      "     --------------------------- ------------ 8.9/12.8 MB 2.0 MB/s eta 0:00:02\n",
      "     ---------------------------- ----------- 9.0/12.8 MB 2.0 MB/s eta 0:00:02\n",
      "     ---------------------------- ----------- 9.1/12.8 MB 2.0 MB/s eta 0:00:02\n",
      "     ---------------------------- ----------- 9.2/12.8 MB 2.0 MB/s eta 0:00:02\n",
      "     ----------------------------- ---------- 9.3/12.8 MB 2.0 MB/s eta 0:00:02\n",
      "     ----------------------------- ---------- 9.4/12.8 MB 2.0 MB/s eta 0:00:02\n",
      "     ----------------------------- ---------- 9.5/12.8 MB 2.0 MB/s eta 0:00:02\n",
      "     ----------------------------- ---------- 9.6/12.8 MB 2.0 MB/s eta 0:00:02\n",
      "     ------------------------------ --------- 9.7/12.8 MB 2.0 MB/s eta 0:00:02\n",
      "     ------------------------------ --------- 9.8/12.8 MB 2.0 MB/s eta 0:00:02\n",
      "     ------------------------------ --------- 9.9/12.8 MB 2.0 MB/s eta 0:00:02\n",
      "     ------------------------------- -------- 10.0/12.8 MB 2.0 MB/s eta 0:00:02\n",
      "     ------------------------------- -------- 10.1/12.8 MB 2.0 MB/s eta 0:00:02\n",
      "     ------------------------------- -------- 10.2/12.8 MB 2.0 MB/s eta 0:00:02\n",
      "     -------------------------------- ------- 10.3/12.8 MB 2.0 MB/s eta 0:00:02\n",
      "     -------------------------------- ------- 10.4/12.8 MB 2.1 MB/s eta 0:00:02\n",
      "     -------------------------------- ------- 10.5/12.8 MB 2.1 MB/s eta 0:00:02\n",
      "     --------------------------------- ------ 10.6/12.8 MB 2.1 MB/s eta 0:00:02\n",
      "     --------------------------------- ------ 10.7/12.8 MB 2.1 MB/s eta 0:00:02\n",
      "     --------------------------------- ------ 10.8/12.8 MB 2.0 MB/s eta 0:00:01\n",
      "     ---------------------------------- ----- 10.9/12.8 MB 2.0 MB/s eta 0:00:01\n",
      "     ---------------------------------- ----- 11.0/12.8 MB 2.0 MB/s eta 0:00:01\n",
      "     ---------------------------------- ----- 11.1/12.8 MB 2.0 MB/s eta 0:00:01\n",
      "     ---------------------------------- ----- 11.2/12.8 MB 2.0 MB/s eta 0:00:01\n",
      "     ----------------------------------- ---- 11.3/12.8 MB 2.0 MB/s eta 0:00:01\n",
      "     ----------------------------------- ---- 11.4/12.8 MB 2.0 MB/s eta 0:00:01\n",
      "     ----------------------------------- ---- 11.5/12.8 MB 2.0 MB/s eta 0:00:01\n",
      "     ------------------------------------ --- 11.6/12.8 MB 2.0 MB/s eta 0:00:01\n",
      "     ------------------------------------ --- 11.7/12.8 MB 2.0 MB/s eta 0:00:01\n",
      "     ------------------------------------- -- 11.9/12.8 MB 2.0 MB/s eta 0:00:01\n",
      "     ------------------------------------- -- 12.0/12.8 MB 2.0 MB/s eta 0:00:01\n",
      "     ------------------------------------- -- 12.1/12.8 MB 2.0 MB/s eta 0:00:01\n",
      "     -------------------------------------- - 12.2/12.8 MB 2.0 MB/s eta 0:00:01\n",
      "     -------------------------------------- - 12.3/12.8 MB 2.0 MB/s eta 0:00:01\n",
      "     -------------------------------------- - 12.4/12.8 MB 2.0 MB/s eta 0:00:01\n",
      "     ---------------------------------------  12.5/12.8 MB 2.0 MB/s eta 0:00:01\n",
      "     ---------------------------------------  12.6/12.8 MB 2.0 MB/s eta 0:00:01\n",
      "     ---------------------------------------  12.7/12.8 MB 2.0 MB/s eta 0:00:01\n",
      "     ---------------------------------------  12.8/12.8 MB 2.0 MB/s eta 0:00:01\n",
      "     ---------------------------------------  12.8/12.8 MB 2.0 MB/s eta 0:00:01\n",
      "     ---------------------------------------- 12.8/12.8 MB 2.0 MB/s eta 0:00:00\n",
      "Requirement already satisfied: spacy<3.8.0,>=3.7.2 in c:\\users\\lord sen\\anaconda3\\lib\\site-packages (from en-core-web-sm==3.7.1) (3.7.4)\n",
      "Requirement already satisfied: spacy-legacy<3.1.0,>=3.0.11 in c:\\users\\lord sen\\anaconda3\\lib\\site-packages (from spacy<3.8.0,>=3.7.2->en-core-web-sm==3.7.1) (3.0.12)\n",
      "Requirement already satisfied: spacy-loggers<2.0.0,>=1.0.0 in c:\\users\\lord sen\\anaconda3\\lib\\site-packages (from spacy<3.8.0,>=3.7.2->en-core-web-sm==3.7.1) (1.0.5)\n",
      "Requirement already satisfied: murmurhash<1.1.0,>=0.28.0 in c:\\users\\lord sen\\anaconda3\\lib\\site-packages (from spacy<3.8.0,>=3.7.2->en-core-web-sm==3.7.1) (1.0.10)\n",
      "Requirement already satisfied: cymem<2.1.0,>=2.0.2 in c:\\users\\lord sen\\anaconda3\\lib\\site-packages (from spacy<3.8.0,>=3.7.2->en-core-web-sm==3.7.1) (2.0.8)\n",
      "Requirement already satisfied: preshed<3.1.0,>=3.0.2 in c:\\users\\lord sen\\anaconda3\\lib\\site-packages (from spacy<3.8.0,>=3.7.2->en-core-web-sm==3.7.1) (3.0.9)\n",
      "Requirement already satisfied: thinc<8.3.0,>=8.2.2 in c:\\users\\lord sen\\anaconda3\\lib\\site-packages (from spacy<3.8.0,>=3.7.2->en-core-web-sm==3.7.1) (8.2.3)\n",
      "Requirement already satisfied: wasabi<1.2.0,>=0.9.1 in c:\\users\\lord sen\\anaconda3\\lib\\site-packages (from spacy<3.8.0,>=3.7.2->en-core-web-sm==3.7.1) (1.1.2)\n",
      "Requirement already satisfied: srsly<3.0.0,>=2.4.3 in c:\\users\\lord sen\\anaconda3\\lib\\site-packages (from spacy<3.8.0,>=3.7.2->en-core-web-sm==3.7.1) (2.4.8)\n",
      "Requirement already satisfied: catalogue<2.1.0,>=2.0.6 in c:\\users\\lord sen\\anaconda3\\lib\\site-packages (from spacy<3.8.0,>=3.7.2->en-core-web-sm==3.7.1) (2.0.10)\n",
      "Requirement already satisfied: weasel<0.4.0,>=0.1.0 in c:\\users\\lord sen\\anaconda3\\lib\\site-packages (from spacy<3.8.0,>=3.7.2->en-core-web-sm==3.7.1) (0.3.4)\n",
      "Requirement already satisfied: typer<0.10.0,>=0.3.0 in c:\\users\\lord sen\\anaconda3\\lib\\site-packages (from spacy<3.8.0,>=3.7.2->en-core-web-sm==3.7.1) (0.9.0)\n",
      "Requirement already satisfied: smart-open<7.0.0,>=5.2.1 in c:\\users\\lord sen\\anaconda3\\lib\\site-packages (from spacy<3.8.0,>=3.7.2->en-core-web-sm==3.7.1) (5.2.1)\n",
      "Requirement already satisfied: tqdm<5.0.0,>=4.38.0 in c:\\users\\lord sen\\anaconda3\\lib\\site-packages (from spacy<3.8.0,>=3.7.2->en-core-web-sm==3.7.1) (4.65.0)\n",
      "Requirement already satisfied: requests<3.0.0,>=2.13.0 in c:\\users\\lord sen\\anaconda3\\lib\\site-packages (from spacy<3.8.0,>=3.7.2->en-core-web-sm==3.7.1) (2.31.0)\n",
      "Requirement already satisfied: pydantic!=1.8,!=1.8.1,<3.0.0,>=1.7.4 in c:\\users\\lord sen\\anaconda3\\lib\\site-packages (from spacy<3.8.0,>=3.7.2->en-core-web-sm==3.7.1) (1.10.8)\n",
      "Requirement already satisfied: jinja2 in c:\\users\\lord sen\\anaconda3\\lib\\site-packages (from spacy<3.8.0,>=3.7.2->en-core-web-sm==3.7.1) (3.1.2)\n",
      "Requirement already satisfied: setuptools in c:\\users\\lord sen\\anaconda3\\lib\\site-packages (from spacy<3.8.0,>=3.7.2->en-core-web-sm==3.7.1) (68.0.0)\n",
      "Requirement already satisfied: packaging>=20.0 in c:\\users\\lord sen\\anaconda3\\lib\\site-packages (from spacy<3.8.0,>=3.7.2->en-core-web-sm==3.7.1) (23.1)\n",
      "Requirement already satisfied: langcodes<4.0.0,>=3.2.0 in c:\\users\\lord sen\\anaconda3\\lib\\site-packages (from spacy<3.8.0,>=3.7.2->en-core-web-sm==3.7.1) (3.3.0)\n",
      "Requirement already satisfied: numpy>=1.19.0 in c:\\users\\lord sen\\anaconda3\\lib\\site-packages (from spacy<3.8.0,>=3.7.2->en-core-web-sm==3.7.1) (1.24.3)\n",
      "Requirement already satisfied: typing-extensions>=4.2.0 in c:\\users\\lord sen\\anaconda3\\lib\\site-packages (from pydantic!=1.8,!=1.8.1,<3.0.0,>=1.7.4->spacy<3.8.0,>=3.7.2->en-core-web-sm==3.7.1) (4.7.1)\n",
      "Requirement already satisfied: charset-normalizer<4,>=2 in c:\\users\\lord sen\\anaconda3\\lib\\site-packages (from requests<3.0.0,>=2.13.0->spacy<3.8.0,>=3.7.2->en-core-web-sm==3.7.1) (2.0.4)\n",
      "Requirement already satisfied: idna<4,>=2.5 in c:\\users\\lord sen\\anaconda3\\lib\\site-packages (from requests<3.0.0,>=2.13.0->spacy<3.8.0,>=3.7.2->en-core-web-sm==3.7.1) (3.4)\n",
      "Requirement already satisfied: urllib3<3,>=1.21.1 in c:\\users\\lord sen\\anaconda3\\lib\\site-packages (from requests<3.0.0,>=2.13.0->spacy<3.8.0,>=3.7.2->en-core-web-sm==3.7.1) (1.26.16)\n",
      "Requirement already satisfied: certifi>=2017.4.17 in c:\\users\\lord sen\\anaconda3\\lib\\site-packages (from requests<3.0.0,>=2.13.0->spacy<3.8.0,>=3.7.2->en-core-web-sm==3.7.1) (2023.7.22)\n",
      "Requirement already satisfied: blis<0.8.0,>=0.7.8 in c:\\users\\lord sen\\anaconda3\\lib\\site-packages (from thinc<8.3.0,>=8.2.2->spacy<3.8.0,>=3.7.2->en-core-web-sm==3.7.1) (0.7.11)\n",
      "Requirement already satisfied: confection<1.0.0,>=0.0.1 in c:\\users\\lord sen\\anaconda3\\lib\\site-packages (from thinc<8.3.0,>=8.2.2->spacy<3.8.0,>=3.7.2->en-core-web-sm==3.7.1) (0.1.4)\n",
      "Requirement already satisfied: colorama in c:\\users\\lord sen\\anaconda3\\lib\\site-packages (from tqdm<5.0.0,>=4.38.0->spacy<3.8.0,>=3.7.2->en-core-web-sm==3.7.1) (0.4.6)\n",
      "Requirement already satisfied: click<9.0.0,>=7.1.1 in c:\\users\\lord sen\\anaconda3\\lib\\site-packages (from typer<0.10.0,>=0.3.0->spacy<3.8.0,>=3.7.2->en-core-web-sm==3.7.1) (8.0.4)\n",
      "Requirement already satisfied: cloudpathlib<0.17.0,>=0.7.0 in c:\\users\\lord sen\\anaconda3\\lib\\site-packages (from weasel<0.4.0,>=0.1.0->spacy<3.8.0,>=3.7.2->en-core-web-sm==3.7.1) (0.16.0)\n",
      "Requirement already satisfied: MarkupSafe>=2.0 in c:\\users\\lord sen\\anaconda3\\lib\\site-packages (from jinja2->spacy<3.8.0,>=3.7.2->en-core-web-sm==3.7.1) (2.1.1)\n",
      "\u001b[38;5;2m[+] Download and installation successful\u001b[0m\n",
      "You can now load the package via spacy.load('en_core_web_sm')\n"
     ]
    }
   ],
   "source": [
    "!pip install -U spacy\n",
    "!python -m spacy download en_core_web_sm\n",
    "import spacy\n",
    "from spacy.lang.en.stop_words import STOP_WORDS\n",
    "from string import punctuation\n",
    "stopwords = list(STOP_WORDS)\n",
    "nlp = spacy.load('en_core_web_sm')\n"
   ]
  },
  {
   "cell_type": "code",
   "execution_count": 3,
   "id": "f023146c",
   "metadata": {},
   "outputs": [],
   "source": [
    "text=\"The world has the equivalent of a cheap vaccine to deal with one of the biggest preventable causes of death but has yet to muster the funds and the political will to scale up deployment, particularly in low- and middle-income countries. That is the sad state of affairs with the global tobacco epidemic yet it may be about to change. For decades, global health has tended to focus on communicable diseases such as polio, tuberculosis, or HIV,AIDS. With the success of control efforts, we have reached the point where, now, almost 70 percent of all deaths around the world are caused by noncommunicable diseases  a catch all term that includes heart diseases and stroke, diabetes, chronic lung diseases, and cancer. In 2015, governments included NCDs among the world’s top development priorities by including target 3.a under the Sustainable Development Goals, calling on the global community to reduce deaths from these diseases by one-third by 2030. This is an acknowledgement of both the enormous burden that these diseases place on the world’s health systems and economies, but also the immense opportunity that exists to eradicate poverty, protect human rights, and to create more resilient communities worldwide by preventing and managing them.\"\n",
    "doc = nlp(text)"
   ]
  },
  {
   "cell_type": "markdown",
   "id": "e7cf61a2",
   "metadata": {},
   "source": [
    "## Tokenization"
   ]
  },
  {
   "cell_type": "code",
   "execution_count": 4,
   "id": "84ce01f2",
   "metadata": {},
   "outputs": [
    {
     "name": "stdout",
     "output_type": "stream",
     "text": [
      "['The', 'world', 'has', 'the', 'equivalent', 'of', 'a', 'cheap', 'vaccine', 'to', 'deal', 'with', 'one', 'of', 'the', 'biggest', 'preventable', 'causes', 'of', 'death', 'but', 'has', 'yet', 'to', 'muster', 'the', 'funds', 'and', 'the', 'political', 'will', 'to', 'scale', 'up', 'deployment', ',', 'particularly', 'in', 'low-', 'and', 'middle', '-', 'income', 'countries', '.', 'That', 'is', 'the', 'sad', 'state', 'of', 'affairs', 'with', 'the', 'global', 'tobacco', 'epidemic', 'yet', 'it', 'may', 'be', 'about', 'to', 'change', '.', 'For', 'decades', ',', 'global', 'health', 'has', 'tended', 'to', 'focus', 'on', 'communicable', 'diseases', 'such', 'as', 'polio', ',', 'tuberculosis', ',', 'or', 'HIV', ',', 'AIDS', '.', 'With', 'the', 'success', 'of', 'control', 'efforts', ',', 'we', 'have', 'reached', 'the', 'point', 'where', ',', 'now', ',', 'almost', '70', 'percent', 'of', 'all', 'deaths', 'around', 'the', 'world', 'are', 'caused', 'by', 'noncommunicable', 'diseases', ' ', 'a', 'catch', 'all', 'term', 'that', 'includes', 'heart', 'diseases', 'and', 'stroke', ',', 'diabetes', ',', 'chronic', 'lung', 'diseases', ',', 'and', 'cancer', '.', 'In', '2015', ',', 'governments', 'included', 'NCDs', 'among', 'the', 'world', '’s', 'top', 'development', 'priorities', 'by', 'including', 'target', '3.a', 'under', 'the', 'Sustainable', 'Development', 'Goals', ',', 'calling', 'on', 'the', 'global', 'community', 'to', 'reduce', 'deaths', 'from', 'these', 'diseases', 'by', 'one', '-', 'third', 'by', '2030', '.', 'This', 'is', 'an', 'acknowledgement', 'of', 'both', 'the', 'enormous', 'burden', 'that', 'these', 'diseases', 'place', 'on', 'the', 'world', '’s', 'health', 'systems', 'and', 'economies', ',', 'but', 'also', 'the', 'immense', 'opportunity', 'that', 'exists', 'to', 'eradicate', 'poverty', ',', 'protect', 'human', 'rights', ',', 'and', 'to', 'create', 'more', 'resilient', 'communities', 'worldwide', 'by', 'preventing', 'and', 'managing', 'them', '.']\n"
     ]
    }
   ],
   "source": [
    "tokens = [token.text for token in doc]\n",
    "print(tokens)\n",
    "\n"
   ]
  },
  {
   "cell_type": "code",
   "execution_count": 5,
   "id": "f8bb068b",
   "metadata": {},
   "outputs": [
    {
     "data": {
      "text/plain": [
       "'!\"#$%&\\'()*+,-./:;<=>?@[\\\\]^_`{|}~\\n'"
      ]
     },
     "execution_count": 5,
     "metadata": {},
     "output_type": "execute_result"
    }
   ],
   "source": [
    "punctuation = punctuation + '\\n'\n",
    "punctuation\n",
    "\n",
    "\n"
   ]
  },
  {
   "cell_type": "markdown",
   "id": "4b350b23",
   "metadata": {},
   "source": [
    "## Frequency Count:"
   ]
  },
  {
   "cell_type": "code",
   "execution_count": 28,
   "id": "30ac1af1",
   "metadata": {},
   "outputs": [
    {
     "name": "stdout",
     "output_type": "stream",
     "text": [
      "{'world': 4, 'equivalent': 1, 'cheap': 1, 'vaccine': 1, 'deal': 1, 'biggest': 1, 'preventable': 1, 'causes': 1, 'death': 1, 'muster': 1, 'funds': 1, 'political': 1, 'scale': 1, 'deployment': 1, 'particularly': 1, 'low-': 1, 'middle': 1, 'income': 1, 'countries': 1, 'sad': 1, 'state': 1, 'affairs': 1, 'global': 3, 'tobacco': 1, 'epidemic': 1, 'change': 1, 'decades': 1, 'health': 2, 'tended': 1, 'focus': 1, 'communicable': 1, 'diseases': 6, 'polio': 1, 'tuberculosis': 1, 'HIV': 1, 'AIDS': 1, 'success': 1, 'control': 1, 'efforts': 1, 'reached': 1, 'point': 1, '70': 1, 'percent': 1, 'deaths': 2, 'caused': 1, 'noncommunicable': 1, ' ': 1, 'catch': 1, 'term': 1, 'includes': 1, 'heart': 1, 'stroke': 1, 'diabetes': 1, 'chronic': 1, 'lung': 1, 'cancer': 1, '2015': 1, 'governments': 1, 'included': 1, 'NCDs': 1, 'development': 1, 'priorities': 1, 'including': 1, 'target': 1, '3.a': 1, 'Sustainable': 1, 'Development': 1, 'Goals': 1, 'calling': 1, 'community': 1, 'reduce': 1, '2030': 1, 'acknowledgement': 1, 'enormous': 1, 'burden': 1, 'place': 1, 'systems': 1, 'economies': 1, 'immense': 1, 'opportunity': 1, 'exists': 1, 'eradicate': 1, 'poverty': 1, 'protect': 1, 'human': 1, 'rights': 1, 'create': 1, 'resilient': 1, 'communities': 1, 'worldwide': 1, 'preventing': 1, 'managing': 1}\n"
     ]
    }
   ],
   "source": [
    "word_frequencies = {}\n",
    "for word in doc:\n",
    "    if word.text.lower() not in stopwords:\n",
    "        if word.text.lower() not in punctuation:\n",
    "            if word.text not in word_frequencies.keys():\n",
    "                word_frequencies[word.text] = 1\n",
    "            else:\n",
    "                word_frequencies[word.text] += 1\n",
    "\n",
    "print(word_frequencies)"
   ]
  },
  {
   "cell_type": "code",
   "execution_count": 7,
   "id": "da020cd1",
   "metadata": {},
   "outputs": [
    {
     "data": {
      "text/plain": [
       "6"
      ]
     },
     "execution_count": 7,
     "metadata": {},
     "output_type": "execute_result"
    }
   ],
   "source": [
    "max_frequency = max(word_frequencies.values())\n",
    "max_frequency\n"
   ]
  },
  {
   "cell_type": "code",
   "execution_count": 8,
   "id": "3acb3dda",
   "metadata": {},
   "outputs": [
    {
     "name": "stdout",
     "output_type": "stream",
     "text": [
      "{'world': 0.6666666666666666, 'equivalent': 0.16666666666666666, 'cheap': 0.16666666666666666, 'vaccine': 0.16666666666666666, 'deal': 0.16666666666666666, 'biggest': 0.16666666666666666, 'preventable': 0.16666666666666666, 'causes': 0.16666666666666666, 'death': 0.16666666666666666, 'muster': 0.16666666666666666, 'funds': 0.16666666666666666, 'political': 0.16666666666666666, 'scale': 0.16666666666666666, 'deployment': 0.16666666666666666, 'particularly': 0.16666666666666666, 'low-': 0.16666666666666666, 'middle': 0.16666666666666666, 'income': 0.16666666666666666, 'countries': 0.16666666666666666, 'sad': 0.16666666666666666, 'state': 0.16666666666666666, 'affairs': 0.16666666666666666, 'global': 0.5, 'tobacco': 0.16666666666666666, 'epidemic': 0.16666666666666666, 'change': 0.16666666666666666, 'decades': 0.16666666666666666, 'health': 0.3333333333333333, 'tended': 0.16666666666666666, 'focus': 0.16666666666666666, 'communicable': 0.16666666666666666, 'diseases': 1.0, 'polio': 0.16666666666666666, 'tuberculosis': 0.16666666666666666, 'HIV': 0.16666666666666666, 'AIDS': 0.16666666666666666, 'success': 0.16666666666666666, 'control': 0.16666666666666666, 'efforts': 0.16666666666666666, 'reached': 0.16666666666666666, 'point': 0.16666666666666666, '70': 0.16666666666666666, 'percent': 0.16666666666666666, 'deaths': 0.3333333333333333, 'caused': 0.16666666666666666, 'noncommunicable': 0.16666666666666666, ' ': 0.16666666666666666, 'catch': 0.16666666666666666, 'term': 0.16666666666666666, 'includes': 0.16666666666666666, 'heart': 0.16666666666666666, 'stroke': 0.16666666666666666, 'diabetes': 0.16666666666666666, 'chronic': 0.16666666666666666, 'lung': 0.16666666666666666, 'cancer': 0.16666666666666666, '2015': 0.16666666666666666, 'governments': 0.16666666666666666, 'included': 0.16666666666666666, 'NCDs': 0.16666666666666666, 'development': 0.16666666666666666, 'priorities': 0.16666666666666666, 'including': 0.16666666666666666, 'target': 0.16666666666666666, '3.a': 0.16666666666666666, 'Sustainable': 0.16666666666666666, 'Development': 0.16666666666666666, 'Goals': 0.16666666666666666, 'calling': 0.16666666666666666, 'community': 0.16666666666666666, 'reduce': 0.16666666666666666, '2030': 0.16666666666666666, 'acknowledgement': 0.16666666666666666, 'enormous': 0.16666666666666666, 'burden': 0.16666666666666666, 'place': 0.16666666666666666, 'systems': 0.16666666666666666, 'economies': 0.16666666666666666, 'immense': 0.16666666666666666, 'opportunity': 0.16666666666666666, 'exists': 0.16666666666666666, 'eradicate': 0.16666666666666666, 'poverty': 0.16666666666666666, 'protect': 0.16666666666666666, 'human': 0.16666666666666666, 'rights': 0.16666666666666666, 'create': 0.16666666666666666, 'resilient': 0.16666666666666666, 'communities': 0.16666666666666666, 'worldwide': 0.16666666666666666, 'preventing': 0.16666666666666666, 'managing': 0.16666666666666666}\n"
     ]
    }
   ],
   "source": [
    "for word in word_frequencies.keys():\n",
    "    word_frequencies[word] = word_frequencies[word] / max_frequency\n",
    "\n",
    "print(word_frequencies)\n"
   ]
  },
  {
   "cell_type": "markdown",
   "id": "655ac534",
   "metadata": {},
   "source": [
    "\n",
    "\n",
    "\n",
    "## Sentence Tokens"
   ]
  },
  {
   "cell_type": "code",
   "execution_count": 9,
   "id": "10c1b98b",
   "metadata": {},
   "outputs": [
    {
     "name": "stdout",
     "output_type": "stream",
     "text": [
      "[The world has the equivalent of a cheap vaccine to deal with one of the biggest preventable causes of death but has yet to muster the funds and the political will to scale up deployment, particularly in low- and middle-income countries., That is the sad state of affairs with the global tobacco epidemic yet it may be about to change., For decades, global health has tended to focus on communicable diseases such as polio, tuberculosis, or HIV,AIDS., With the success of control efforts, we have reached the point where, now, almost 70 percent of all deaths around the world are caused by noncommunicable diseases  a catch all term that includes heart diseases and stroke, diabetes, chronic lung diseases, and cancer., In 2015, governments included NCDs among the world’s top development priorities by including target 3.a under the Sustainable Development Goals, calling on the global community to reduce deaths from these diseases by one-third by 2030., This is an acknowledgement of both the enormous burden that these diseases place on the world’s health systems and economies, but also the immense opportunity that exists to eradicate poverty, protect human rights, and to create more resilient communities worldwide by preventing and managing them.]\n"
     ]
    }
   ],
   "source": [
    "sentence_tokens = [sent for sent in doc.sents]\n",
    "print(sentence_tokens)"
   ]
  },
  {
   "cell_type": "code",
   "execution_count": 10,
   "id": "8329c57a",
   "metadata": {},
   "outputs": [
    {
     "name": "stdout",
     "output_type": "stream",
     "text": [
      "{The world has the equivalent of a cheap vaccine to deal with one of the biggest preventable causes of death but has yet to muster the funds and the political will to scale up deployment, particularly in low- and middle-income countries.: 3.666666666666665, That is the sad state of affairs with the global tobacco epidemic yet it may be about to change.: 1.5000000000000002, For decades, global health has tended to focus on communicable diseases such as polio, tuberculosis, or HIV,AIDS.: 2.833333333333333, With the success of control efforts, we have reached the point where, now, almost 70 percent of all deaths around the world are caused by noncommunicable diseases  a catch all term that includes heart diseases and stroke, diabetes, chronic lung diseases, and cancer.: 7.166666666666668, In 2015, governments included NCDs among the world’s top development priorities by including target 3.a under the Sustainable Development Goals, calling on the global community to reduce deaths from these diseases by one-third by 2030.: 4.666666666666667, This is an acknowledgement of both the enormous burden that these diseases place on the world’s health systems and economies, but also the immense opportunity that exists to eradicate poverty, protect human rights, and to create more resilient communities worldwide by preventing and managing them.: 5.333333333333335}\n"
     ]
    }
   ],
   "source": [
    "sentence_scores = {}\n",
    "for sent in sentence_tokens:\n",
    "    for word in sent:\n",
    "        if word.text.lower() in word_frequencies.keys():\n",
    "            if sent not in sentence_scores.keys():\n",
    "                sentence_scores[sent] = word_frequencies[word.text.lower()]\n",
    "            else:\n",
    "                sentence_scores[sent] += word_frequencies[word.text.lower()]\n",
    "\n",
    "print(sentence_scores)\n"
   ]
  },
  {
   "cell_type": "code",
   "execution_count": 11,
   "id": "17f553d6",
   "metadata": {},
   "outputs": [
    {
     "data": {
      "text/plain": [
       "1"
      ]
     },
     "execution_count": 11,
     "metadata": {},
     "output_type": "execute_result"
    }
   ],
   "source": [
    "from heapq import nlargest\n",
    "select_length = int(len(sentence_tokens)*0.3)\n",
    "select_length\n"
   ]
  },
  {
   "cell_type": "markdown",
   "id": "0feb501b",
   "metadata": {},
   "source": [
    "## Summary:"
   ]
  },
  {
   "cell_type": "code",
   "execution_count": 12,
   "id": "cb5e777b",
   "metadata": {},
   "outputs": [
    {
     "data": {
      "text/plain": [
       "[With the success of control efforts, we have reached the point where, now, almost 70 percent of all deaths around the world are caused by noncommunicable diseases  a catch all term that includes heart diseases and stroke, diabetes, chronic lung diseases, and cancer.]"
      ]
     },
     "execution_count": 12,
     "metadata": {},
     "output_type": "execute_result"
    }
   ],
   "source": [
    "summary = nlargest(select_length, sentence_scores, key = sentence_scores.get)\n",
    "summary\n"
   ]
  },
  {
   "cell_type": "code",
   "execution_count": 13,
   "id": "a348cbd6",
   "metadata": {},
   "outputs": [],
   "source": [
    "final_summary = [word.text for word in summary]\n",
    "summary = ''.join(final_summary)"
   ]
  },
  {
   "cell_type": "code",
   "execution_count": 14,
   "id": "41564590",
   "metadata": {},
   "outputs": [
    {
     "name": "stdout",
     "output_type": "stream",
     "text": [
      "The world has the equivalent of a cheap vaccine to deal with one of the biggest preventable causes of death but has yet to muster the funds and the political will to scale up deployment, particularly in low- and middle-income countries. That is the sad state of affairs with the global tobacco epidemic yet it may be about to change. For decades, global health has tended to focus on communicable diseases such as polio, tuberculosis, or HIV,AIDS. With the success of control efforts, we have reached the point where, now, almost 70 percent of all deaths around the world are caused by noncommunicable diseases  a catch all term that includes heart diseases and stroke, diabetes, chronic lung diseases, and cancer. In 2015, governments included NCDs among the world’s top development priorities by including target 3.a under the Sustainable Development Goals, calling on the global community to reduce deaths from these diseases by one-third by 2030. This is an acknowledgement of both the enormous burden that these diseases place on the world’s health systems and economies, but also the immense opportunity that exists to eradicate poverty, protect human rights, and to create more resilient communities worldwide by preventing and managing them.\n"
     ]
    }
   ],
   "source": [
    "print(text)"
   ]
  },
  {
   "cell_type": "code",
   "execution_count": 15,
   "id": "b0a7a238",
   "metadata": {},
   "outputs": [
    {
     "name": "stdout",
     "output_type": "stream",
     "text": [
      "With the success of control efforts, we have reached the point where, now, almost 70 percent of all deaths around the world are caused by noncommunicable diseases  a catch all term that includes heart diseases and stroke, diabetes, chronic lung diseases, and cancer.\n"
     ]
    }
   ],
   "source": [
    "print(summary)"
   ]
  },
  {
   "cell_type": "markdown",
   "id": "54c68e1c",
   "metadata": {},
   "source": [
    "## Using Transformers:"
   ]
  },
  {
   "cell_type": "code",
   "execution_count": 16,
   "id": "558cd50c",
   "metadata": {
    "scrolled": true
   },
   "outputs": [
    {
     "name": "stdout",
     "output_type": "stream",
     "text": [
      "WARNING:tensorflow:From C:\\Users\\Lord Sen\\anaconda3\\Lib\\site-packages\\keras\\src\\losses.py:2976: The name tf.losses.sparse_softmax_cross_entropy is deprecated. Please use tf.compat.v1.losses.sparse_softmax_cross_entropy instead.\n",
      "\n"
     ]
    },
    {
     "name": "stderr",
     "output_type": "stream",
     "text": [
      "No model was supplied, defaulted to t5-small and revision d769bba (https://huggingface.co/t5-small).\n",
      "Using a pipeline without specifying a model name and revision in production is not recommended.\n"
     ]
    },
    {
     "name": "stdout",
     "output_type": "stream",
     "text": [
      "WARNING:tensorflow:From C:\\Users\\Lord Sen\\anaconda3\\Lib\\site-packages\\keras\\src\\backend.py:873: The name tf.get_default_graph is deprecated. Please use tf.compat.v1.get_default_graph instead.\n",
      "\n"
     ]
    },
    {
     "name": "stderr",
     "output_type": "stream",
     "text": [
      "All PyTorch model weights were used when initializing TFT5ForConditionalGeneration.\n",
      "\n",
      "All the weights of TFT5ForConditionalGeneration were initialized from the PyTorch model.\n",
      "If your task is similar to the task the model of the checkpoint was trained on, you can already use TFT5ForConditionalGeneration for predictions without further training.\n"
     ]
    }
   ],
   "source": [
    "from transformers import pipeline\n",
    "\n",
    "classifier = pipeline(\"summarization\")\n"
   ]
  },
  {
   "cell_type": "code",
   "execution_count": 17,
   "id": "8bc9ab7d",
   "metadata": {},
   "outputs": [
    {
     "data": {
      "text/plain": [
       "[{'summary_text': 'the world has the equivalent of a cheap vaccine to deal with preventable causes of death but has yet to muster the funds and the political will to scale up deployment . for decades, global health has tended to focus on communicable diseases such as polio, tuberculosis, or HIV,AIDS . in 2015, governments included NCDs among the world’s top development priorities .'}]"
      ]
     },
     "execution_count": 17,
     "metadata": {},
     "output_type": "execute_result"
    }
   ],
   "source": [
    "classifier(\"The world has the equivalent of a cheap vaccine to deal with one of the biggest preventable causes of death but has yet to muster the funds and the political will to scale up deployment, particularly in low- and middle-income countries. That is the sad state of affairs with the global tobacco epidemic yet it may be about to change. For decades, global health has tended to focus on communicable diseases such as polio, tuberculosis, or HIV,AIDS. With the success of control efforts, we have reached the point where, now, almost 70 percent of all deaths around the world are caused by noncommunicable diseases  a catch all term that includes heart diseases and stroke, diabetes, chronic lung diseases, and cancer. In 2015, governments included NCDs among the world’s top development priorities by including target 3.a under the Sustainable Development Goals, calling on the global community to reduce deaths from these diseases by one-third by 2030. This is an acknowledgement of both the enormous burden that these diseases place on the world’s health systems and economies, but also the immense opportunity that exists to eradicate poverty, protect human rights, and to create more resilient communities worldwide by preventing and managing them.\")\n",
    "## [{ \"summary_text\": \" Paris is the capital and most populous city of France...\" }]"
   ]
  },
  {
   "cell_type": "code",
   "execution_count": 18,
   "id": "71bf8eee",
   "metadata": {},
   "outputs": [
    {
     "name": "stderr",
     "output_type": "stream",
     "text": [
      "No model was supplied, defaulted to t5-small and revision d769bba (https://huggingface.co/t5-small).\n",
      "Using a pipeline without specifying a model name and revision in production is not recommended.\n",
      "All PyTorch model weights were used when initializing TFT5ForConditionalGeneration.\n",
      "\n",
      "All the weights of TFT5ForConditionalGeneration were initialized from the PyTorch model.\n",
      "If your task is similar to the task the model of the checkpoint was trained on, you can already use TFT5ForConditionalGeneration for predictions without further training.\n"
     ]
    }
   ],
   "source": [
    "from transformers import pipeline\n",
    "\n",
    "# Load the pre-trained summarization pipeline\n",
    "summarizer = pipeline(\"summarization\")\n",
    "\n",
    "# Define a function to generate summaries\n",
    "def generate_summary(article):\n",
    "    # Use the loaded summarizer pipeline to generate the summary\n",
    "    summary = summarizer(article, max_length=100, min_length=30, do_sample=False)\n",
    "    return summary[0]['summary_text']"
   ]
  },
  {
   "cell_type": "code",
   "execution_count": 19,
   "id": "0862abf4",
   "metadata": {},
   "outputs": [
    {
     "data": {
      "text/plain": [
       "'Virus criticises Virus about the extreme pressure placed on ICE students . he pranks her materialistic boyfriend Suhas to demonstrate his obsession with money and status leading Pia to break up with him .'"
      ]
     },
     "execution_count": 19,
     "metadata": {},
     "output_type": "execute_result"
    }
   ],
   "source": [
    "generate_summary(\"When a student named Joy Lobo is denied graduation by Virus on the ground of failure to submit a project, Rancho tries to finish Joy’s project. Joy commits suicide before he can show it to him. Rancho criticises Virus about the extreme pressure placed on ICE students, but is rudely rebuffed. One night, the trio gatecrashes a wedding party, not knowing that it is for Virus's daughter Mona. Mona's younger sister, Pia, is initially upset by Rancho’s behaviour, but is attracted to him after he pranks her materialistic boyfriend Suhas to demonstrate his obsession with money and status leading Pia to break up with Suhas. An infuriated Virus warns Farhan and Raju about the effects of them being friends with Rancho by pointing out the modest financial situations of their families, scaring Raju into bunking with Chatur, a competitive and arrogant Ugandan Indian student who favours rote learning but is not fluent in Hindi. To teach Chatur a lesson about memorisation, Rancho and Farhan secretly make obscene modifications to an all-Hindi Teachers Day speech that Chatur is to deliver in honour of a visit by the Minister of Education. Humiliated and furious, Chatur challenges Rancho to meet in ten years and see who is more successful. The night before their final exams, Raju's paralyzed father experiences a heart attack. With Pia's help, Rancho rushes Raju's father to the hospital on Pia's scooter. Raju is initially furious at Rancho, but upon realising that Rancho saved his father's life, he reconciles with him. At the end of the year, Rancho comes first in the class, while Farhan and Raju are last and second to last, respectively. During the yearly class photo, Virus makes a bet with Rancho that neither Raju nor Farhan gets a job from on-campus interviews or he will shave off his mustache.\")"
   ]
  },
  {
   "cell_type": "markdown",
   "id": "adca6191",
   "metadata": {},
   "source": [
    "## Speech to text:"
   ]
  },
  {
   "cell_type": "code",
   "execution_count": 18,
   "id": "7b06ea8d",
   "metadata": {},
   "outputs": [
    {
     "name": "stdout",
     "output_type": "stream",
     "text": [
      "Requirement already satisfied: gtts in c:\\users\\lord sen\\anaconda3\\lib\\site-packages (2.5.1)\n",
      "Requirement already satisfied: requests<3,>=2.27 in c:\\users\\lord sen\\anaconda3\\lib\\site-packages (from gtts) (2.31.0)\n",
      "Requirement already satisfied: click<8.2,>=7.1 in c:\\users\\lord sen\\anaconda3\\lib\\site-packages (from gtts) (8.0.4)\n",
      "Requirement already satisfied: colorama in c:\\users\\lord sen\\anaconda3\\lib\\site-packages (from click<8.2,>=7.1->gtts) (0.4.6)\n",
      "Requirement already satisfied: charset-normalizer<4,>=2 in c:\\users\\lord sen\\anaconda3\\lib\\site-packages (from requests<3,>=2.27->gtts) (2.0.4)\n",
      "Requirement already satisfied: idna<4,>=2.5 in c:\\users\\lord sen\\anaconda3\\lib\\site-packages (from requests<3,>=2.27->gtts) (3.4)\n",
      "Requirement already satisfied: urllib3<3,>=1.21.1 in c:\\users\\lord sen\\anaconda3\\lib\\site-packages (from requests<3,>=2.27->gtts) (1.26.16)\n",
      "Requirement already satisfied: certifi>=2017.4.17 in c:\\users\\lord sen\\anaconda3\\lib\\site-packages (from requests<3,>=2.27->gtts) (2023.7.22)\n"
     ]
    }
   ],
   "source": [
    "!pip install gtts"
   ]
  },
  {
   "cell_type": "code",
   "execution_count": 29,
   "id": "71bd374a",
   "metadata": {},
   "outputs": [],
   "source": [
    "from gtts import gTTS\n",
    "import os"
   ]
  },
  {
   "cell_type": "code",
   "execution_count": 21,
   "id": "a6780c5f",
   "metadata": {},
   "outputs": [
    {
     "name": "stdout",
     "output_type": "stream",
     "text": [
      "Requirement already satisfied: pygame in c:\\users\\lord sen\\anaconda3\\lib\\site-packages (2.5.2)\n"
     ]
    }
   ],
   "source": [
    "!pip install pygame"
   ]
  },
  {
   "cell_type": "code",
   "execution_count": 22,
   "id": "e82eb109",
   "metadata": {},
   "outputs": [
    {
     "name": "stdout",
     "output_type": "stream",
     "text": [
      "\n",
      "Note: you may need to restart the kernel to use updated packages.\n"
     ]
    },
    {
     "name": "stderr",
     "output_type": "stream",
     "text": [
      "usage: conda-script.py [-h] [--no-plugins] [-V] COMMAND ...\n",
      "conda-script.py: error: unrecognized arguments: pygame\n"
     ]
    }
   ],
   "source": [
    "conda install -c cogsci pygame"
   ]
  },
  {
   "cell_type": "code",
   "execution_count": 30,
   "id": "910911bc",
   "metadata": {},
   "outputs": [],
   "source": [
    "import tempfile\n",
    "\n",
    "def text_to_speech(text, filename='newsie.mp3'):\n",
    "    try:\n",
    "        tts = gTTS(text=text, lang='en')\n",
    "        # Save the audio file to the temporary directory\n",
    "        with tempfile.NamedTemporaryFile(suffix='.mp3', delete=False) as temp_file:\n",
    "            tts.write_to_fp(temp_file)\n",
    "            print(\"Audio saved successfully to:\", temp_file.name)\n",
    "    except PermissionError:\n",
    "        print(\"Permission denied: Unable to save audio file. Please check file permissions.\")\n",
    "    except Exception as e:\n",
    "        print(f\"An error occurred: {e}\")\n",
    "\n"
   ]
  },
  {
   "cell_type": "code",
   "execution_count": 31,
   "id": "47168c1a",
   "metadata": {},
   "outputs": [],
   "source": [
    "def save(self, savefile):\n",
    "    with open(str(savefile), \"wb\") as f:\n",
    "        self.write_to_fp(f)\n",
    "        f.flush()"
   ]
  },
  {
   "cell_type": "code",
   "execution_count": 32,
   "id": "a88dd6a5",
   "metadata": {},
   "outputs": [
    {
     "name": "stdout",
     "output_type": "stream",
     "text": [
      "Audio saved successfully to: C:\\Users\\LORDSE~1\\AppData\\Local\\Temp\\tmp9_cw623i.mp3\n"
     ]
    }
   ],
   "source": [
    "\n",
    "Summarized_text = \"An infuriated Virus warns Farhan and Raju about the effects of them being friends with Rancho by pointing out the modest financial situations of their families, scaring Raju into bunking with Chatur, a competitive and arrogant Ugandan Indian student who favours rote learning but is not fluent in Hindi.\"\n",
    "\n",
    "# Generate speech from summarized text\n",
    "text_to_speech(Summarized_text)\n"
   ]
  },
  {
   "cell_type": "code",
   "execution_count": 33,
   "id": "dd66977d",
   "metadata": {},
   "outputs": [
    {
     "ename": "NameError",
     "evalue": "name 'play_audio' is not defined",
     "output_type": "error",
     "traceback": [
      "\u001b[1;31m---------------------------------------------------------------------------\u001b[0m",
      "\u001b[1;31mNameError\u001b[0m                                 Traceback (most recent call last)",
      "Cell \u001b[1;32mIn[33], line 5\u001b[0m\n\u001b[0;32m      2\u001b[0m audio_filename \u001b[38;5;241m=\u001b[39m \u001b[38;5;124m\"\u001b[39m\u001b[38;5;124moutputaudi.mp3\u001b[39m\u001b[38;5;124m\"\u001b[39m\n\u001b[0;32m      4\u001b[0m \u001b[38;5;66;03m# Play the generated audio file using Pygame\u001b[39;00m\n\u001b[1;32m----> 5\u001b[0m play_audio(audio_filename)\n",
      "\u001b[1;31mNameError\u001b[0m: name 'play_audio' is not defined"
     ]
    }
   ],
   "source": [
    "# Specify the filename of the generated audio file\n",
    "audio_filename = \"outputaudi.mp3\"\n",
    "\n",
    "# Play the generated audio file using Pygame\n",
    "play_audio(audio_filename)"
   ]
  },
  {
   "cell_type": "code",
   "execution_count": null,
   "id": "204078c3",
   "metadata": {},
   "outputs": [],
   "source": [
    "from gtts import gTTS\n",
    "\n",
    "def text_to_speech(text, filename='outnew.mp3'):\n",
    "    tts = gTTS(text=text, lang='en')\n",
    "    tts.save(filename)\n",
    "\n",
    "# Sample text to convert to speech\n",
    "summarized_text = \"An infuriated with Rancho by pointing out the modest financial situations of their families, scaring Raju into bunking with Chatur, a competitive and arrogant Ugandan Indian student who favours rote learning but is not fluent in Hindi.\"\n",
    "\n",
    "# Generate speech from text\n",
    "text_to_speech(summarized_text)\n",
    "import pygame\n",
    "import os\n",
    "\n",
    "# Initialize Pygame\n",
    "pygame.init()\n",
    "\n",
    "# Function to play audio using Pygame\n",
    "def play_audio(filename):\n",
    "    # Set up the mixer to avoid delay in playback\n",
    "    pygame.mixer.init()\n",
    "    # Load the audio file\n",
    "    pygame.mixer.music.load(filename)\n",
    "    # Play the audio file\n",
    "    pygame.mixer.music.play()\n",
    "    # Wait until playback is finished\n",
    "    while pygame.mixer.music.get_busy():\n",
    "        pygame.time.Clock().tick(10)"
   ]
  },
  {
   "cell_type": "code",
   "execution_count": null,
   "id": "7c29707e",
   "metadata": {},
   "outputs": [],
   "source": [
    "# Specify the filename of the generated audio file\n",
    "audio_filename = \"outnew.mp3\"\n",
    "\n",
    "# Play the generated audio file using Pygame\n",
    "play_audio(audio_filename)"
   ]
  },
  {
   "cell_type": "code",
   "execution_count": 34,
   "id": "b3496a80",
   "metadata": {},
   "outputs": [
    {
     "name": "stdout",
     "output_type": "stream",
     "text": [
      "pygame 2.5.2 (SDL 2.28.3, Python 3.11.5)\n",
      "Hello from the pygame community. https://www.pygame.org/contribute.html\n"
     ]
    }
   ],
   "source": [
    "from gtts import gTTS\n",
    "\n",
    "def text_to_speech(text, filename='outnews.mp3'):\n",
    "    tts = gTTS(text=text, lang='en')\n",
    "    tts.save(filename)\n",
    "\n",
    "# Sample text to convert to speech\n",
    "summarized_text = \"With the success of control efforts, we have reached the point where, now, almost 70 percent of all deaths around the world are caused by noncommunicable diseases  a catch all term that includes heart diseases and stroke, diabetes, chronic lung diseases, and cancer.\"\n",
    "\n",
    "# Generate speech from text\n",
    "text_to_speech(summarized_text)\n",
    "import pygame\n",
    "import os\n",
    "\n",
    "# Initialize Pygame\n",
    "pygame.init()\n",
    "\n",
    "# Function to play audio using Pygame\n",
    "def play_audio(filename):\n",
    "    # Set up the mixer to avoid delay in playback\n",
    "    pygame.mixer.init()\n",
    "    # Load the audio file\n",
    "    pygame.mixer.music.load(filename)\n",
    "    # Play the audio file\n",
    "    pygame.mixer.music.play()\n",
    "    # Wait until playback is finished\n",
    "    while pygame.mixer.music.get_busy():\n",
    "        pygame.time.Clock().tick(10)"
   ]
  },
  {
   "cell_type": "code",
   "execution_count": 36,
   "id": "42369339",
   "metadata": {},
   "outputs": [],
   "source": [
    "# Specify the filename of the generated audio file\n",
    "audio_filename = \"outnews.mp3\"\n",
    "\n",
    "# Play the generated audio file using Pygame\n",
    "play_audio(audio_filename)"
   ]
  },
  {
   "cell_type": "code",
   "execution_count": null,
   "id": "6b40fd5d",
   "metadata": {},
   "outputs": [],
   "source": []
  },
  {
   "cell_type": "code",
   "execution_count": null,
   "id": "7a885619",
   "metadata": {},
   "outputs": [],
   "source": []
  }
 ],
 "metadata": {
  "kernelspec": {
   "display_name": "Python 3 (ipykernel)",
   "language": "python",
   "name": "python3"
  },
  "language_info": {
   "codemirror_mode": {
    "name": "ipython",
    "version": 3
   },
   "file_extension": ".py",
   "mimetype": "text/x-python",
   "name": "python",
   "nbconvert_exporter": "python",
   "pygments_lexer": "ipython3",
   "version": "3.11.5"
  }
 },
 "nbformat": 4,
 "nbformat_minor": 5
}
